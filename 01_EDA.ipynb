{
 "cells": [
  {
   "cell_type": "code",
   "execution_count": 1,
   "id": "c48a9d0f-d535-4d9b-aefa-643b9e435e2d",
   "metadata": {},
   "outputs": [
    {
     "data": {
      "text/html": [
       "<div>\n",
       "<style scoped>\n",
       "    .dataframe tbody tr th:only-of-type {\n",
       "        vertical-align: middle;\n",
       "    }\n",
       "\n",
       "    .dataframe tbody tr th {\n",
       "        vertical-align: top;\n",
       "    }\n",
       "\n",
       "    .dataframe thead th {\n",
       "        text-align: right;\n",
       "    }\n",
       "</style>\n",
       "<table border=\"1\" class=\"dataframe\">\n",
       "  <thead>\n",
       "    <tr style=\"text-align: right;\">\n",
       "      <th></th>\n",
       "      <th>Date</th>\n",
       "      <th>Produit</th>\n",
       "      <th>Catégorie</th>\n",
       "      <th>Quantité</th>\n",
       "      <th>Prix_Unitaire</th>\n",
       "    </tr>\n",
       "  </thead>\n",
       "  <tbody>\n",
       "    <tr>\n",
       "      <th>0</th>\n",
       "      <td>2025-01-01</td>\n",
       "      <td>Café</td>\n",
       "      <td>Boissons</td>\n",
       "      <td>5</td>\n",
       "      <td>2.5</td>\n",
       "    </tr>\n",
       "    <tr>\n",
       "      <th>1</th>\n",
       "      <td>2025-01-01</td>\n",
       "      <td>Croissant</td>\n",
       "      <td>Viennoiserie</td>\n",
       "      <td>3</td>\n",
       "      <td>1.2</td>\n",
       "    </tr>\n",
       "    <tr>\n",
       "      <th>2</th>\n",
       "      <td>2025-01-02</td>\n",
       "      <td>Jus d'orange</td>\n",
       "      <td>Boissons</td>\n",
       "      <td>2</td>\n",
       "      <td>3.0</td>\n",
       "    </tr>\n",
       "    <tr>\n",
       "      <th>3</th>\n",
       "      <td>2025-01-03</td>\n",
       "      <td>Baguette</td>\n",
       "      <td>Boulangerie</td>\n",
       "      <td>10</td>\n",
       "      <td>0.9</td>\n",
       "    </tr>\n",
       "    <tr>\n",
       "      <th>4</th>\n",
       "      <td>2025-01-04</td>\n",
       "      <td>Sandwich</td>\n",
       "      <td>Snack</td>\n",
       "      <td>4</td>\n",
       "      <td>4.5</td>\n",
       "    </tr>\n",
       "  </tbody>\n",
       "</table>\n",
       "</div>"
      ],
      "text/plain": [
       "         Date       Produit     Catégorie  Quantité  Prix_Unitaire\n",
       "0  2025-01-01          Café      Boissons         5            2.5\n",
       "1  2025-01-01     Croissant  Viennoiserie         3            1.2\n",
       "2  2025-01-02  Jus d'orange      Boissons         2            3.0\n",
       "3  2025-01-03      Baguette   Boulangerie        10            0.9\n",
       "4  2025-01-04      Sandwich         Snack         4            4.5"
      ]
     },
     "execution_count": 1,
     "metadata": {},
     "output_type": "execute_result"
    }
   ],
   "source": [
    "import pandas as pd\n",
    "import matplotlib.pyplot as plt\n",
    "import seaborn as sns\n",
    "\n",
    "sns.set()\n",
    "\n",
    "df = pd.read_csv(\"data/vente.csv\")\n",
    "df.head()"
   ]
  },
  {
   "cell_type": "code",
   "execution_count": 2,
   "id": "52b09195-5891-45e8-a099-3f0c1b073556",
   "metadata": {},
   "outputs": [
    {
     "data": {
      "text/plain": [
       "<bound method DataFrame.info of           Date       Produit     Catégorie  Quantité  Prix_Unitaire\n",
       "0   2025-01-01          Café      Boissons         5            2.5\n",
       "1   2025-01-01     Croissant  Viennoiserie         3            1.2\n",
       "2   2025-01-02  Jus d'orange      Boissons         2            3.0\n",
       "3   2025-01-03      Baguette   Boulangerie        10            0.9\n",
       "4   2025-01-04      Sandwich         Snack         4            4.5\n",
       "5   2025-01-05           Thé      Boissons         6            2.0\n",
       "6   2025-01-06         Donut  Viennoiserie         8            1.5\n",
       "7   2025-01-07        Salade         Snack         3            5.0\n",
       "8   2025-01-08     Croissant  Viennoiserie         7            1.2\n",
       "9   2025-01-09          Café      Boissons         4            2.5\n",
       "10  2025-01-10      Baguette   Boulangerie        12            0.9\n",
       "11  2025-01-11      Sandwich         Snack         5            4.5\n",
       "12  2025-01-12  Jus d'orange      Boissons         3            3.0\n",
       "13  2025-01-13           Thé      Boissons         4            2.0\n",
       "14  2025-01-14         Donut  Viennoiserie         6            1.5\n",
       "15  2025-01-15        Salade         Snack         2            5.0\n",
       "16  2025-01-16          Café      Boissons         3            2.5\n",
       "17  2025-01-17     Croissant  Viennoiserie         5            1.2\n",
       "18  2025-01-18      Baguette   Boulangerie         8            0.9\n",
       "19  2025-01-19      Sandwich         Snack         6            4.5\n",
       "20  2025-01-20  Jus d'orange      Boissons         4            3.0\n",
       "21  2025-01-21           Thé      Boissons         7            2.0\n",
       "22  2025-01-22         Donut  Viennoiserie         9            1.5\n",
       "23  2025-01-23        Salade         Snack         3            5.0\n",
       "24  2025-01-24          Café      Boissons         5            2.5\n",
       "25  2025-01-25      Baguette   Boulangerie        11            0.9\n",
       "26  2025-01-26     Croissant  Viennoiserie         4            1.2\n",
       "27  2025-01-27  Jus d'orange      Boissons         3            3.0\n",
       "28  2025-01-28           Thé      Boissons         6            2.0>"
      ]
     },
     "execution_count": 2,
     "metadata": {},
     "output_type": "execute_result"
    }
   ],
   "source": [
    "df.info"
   ]
  },
  {
   "cell_type": "markdown",
   "id": "035659a2-b277-4581-99e0-fa83668e28f2",
   "metadata": {},
   "source": [
    "le fichier contient 29 lignes et "
   ]
  },
  {
   "cell_type": "code",
   "execution_count": 3,
   "id": "f469c868-8922-4c00-9789-6e16fbb7de41",
   "metadata": {
    "scrolled": true
   },
   "outputs": [
    {
     "data": {
      "text/html": [
       "<div>\n",
       "<style scoped>\n",
       "    .dataframe tbody tr th:only-of-type {\n",
       "        vertical-align: middle;\n",
       "    }\n",
       "\n",
       "    .dataframe tbody tr th {\n",
       "        vertical-align: top;\n",
       "    }\n",
       "\n",
       "    .dataframe thead th {\n",
       "        text-align: right;\n",
       "    }\n",
       "</style>\n",
       "<table border=\"1\" class=\"dataframe\">\n",
       "  <thead>\n",
       "    <tr style=\"text-align: right;\">\n",
       "      <th></th>\n",
       "      <th>Quantité</th>\n",
       "      <th>Prix_Unitaire</th>\n",
       "    </tr>\n",
       "  </thead>\n",
       "  <tbody>\n",
       "    <tr>\n",
       "      <th>count</th>\n",
       "      <td>29.000000</td>\n",
       "      <td>29.000000</td>\n",
       "    </tr>\n",
       "    <tr>\n",
       "      <th>mean</th>\n",
       "      <td>5.448276</td>\n",
       "      <td>2.462069</td>\n",
       "    </tr>\n",
       "    <tr>\n",
       "      <th>std</th>\n",
       "      <td>2.653653</td>\n",
       "      <td>1.372020</td>\n",
       "    </tr>\n",
       "    <tr>\n",
       "      <th>min</th>\n",
       "      <td>2.000000</td>\n",
       "      <td>0.900000</td>\n",
       "    </tr>\n",
       "    <tr>\n",
       "      <th>25%</th>\n",
       "      <td>3.000000</td>\n",
       "      <td>1.200000</td>\n",
       "    </tr>\n",
       "    <tr>\n",
       "      <th>50%</th>\n",
       "      <td>5.000000</td>\n",
       "      <td>2.000000</td>\n",
       "    </tr>\n",
       "    <tr>\n",
       "      <th>75%</th>\n",
       "      <td>7.000000</td>\n",
       "      <td>3.000000</td>\n",
       "    </tr>\n",
       "    <tr>\n",
       "      <th>max</th>\n",
       "      <td>12.000000</td>\n",
       "      <td>5.000000</td>\n",
       "    </tr>\n",
       "  </tbody>\n",
       "</table>\n",
       "</div>"
      ],
      "text/plain": [
       "        Quantité  Prix_Unitaire\n",
       "count  29.000000      29.000000\n",
       "mean    5.448276       2.462069\n",
       "std     2.653653       1.372020\n",
       "min     2.000000       0.900000\n",
       "25%     3.000000       1.200000\n",
       "50%     5.000000       2.000000\n",
       "75%     7.000000       3.000000\n",
       "max    12.000000       5.000000"
      ]
     },
     "execution_count": 3,
     "metadata": {},
     "output_type": "execute_result"
    }
   ],
   "source": [
    "df.describe()"
   ]
  },
  {
   "cell_type": "markdown",
   "id": "65739179-4bcc-493c-9288-dec955453db9",
   "metadata": {
    "scrolled": true
   },
   "source": [
    "les colonnes numériques sont : \"Quantité\" et \"Prix_Unitaire\""
   ]
  },
  {
   "cell_type": "code",
   "execution_count": 4,
   "id": "76e88e41-4c8f-4673-8644-4e3b82a68dbc",
   "metadata": {},
   "outputs": [
    {
     "data": {
      "text/plain": [
       "Date             0\n",
       "Produit          0\n",
       "Catégorie        0\n",
       "Quantité         0\n",
       "Prix_Unitaire    0\n",
       "dtype: int64"
      ]
     },
     "execution_count": 4,
     "metadata": {},
     "output_type": "execute_result"
    }
   ],
   "source": [
    "df.isnull().sum()"
   ]
  },
  {
   "cell_type": "markdown",
   "id": "44511fa1-fae3-4002-a87a-8553c72e9f81",
   "metadata": {},
   "source": [
    "il n'y a aucune colonne avec des valeurs nul ou manquantes"
   ]
  },
  {
   "cell_type": "code",
   "execution_count": 5,
   "id": "0c10a2f1-58bc-4258-9805-1bf5fa503e2f",
   "metadata": {},
   "outputs": [
    {
     "data": {
      "text/plain": [
       "Date              object\n",
       "Produit           object\n",
       "Catégorie         object\n",
       "Quantité           int64\n",
       "Prix_Unitaire    float64\n",
       "dtype: object"
      ]
     },
     "execution_count": 5,
     "metadata": {},
     "output_type": "execute_result"
    }
   ],
   "source": [
    "df.dtypes"
   ]
  },
  {
   "cell_type": "markdown",
   "id": "4d5e75f0-1a8a-42d2-8a58-bc2592b7d678",
   "metadata": {},
   "source": [
    "il y a 3 types de données : float64 (à virgule), int64 (entier) et object (variant)"
   ]
  },
  {
   "cell_type": "code",
   "execution_count": 6,
   "id": "ee92260d-f15b-433b-a3fa-79e9204f0409",
   "metadata": {},
   "outputs": [],
   "source": [
    "df['Date'] = pd.to_datetime(df['Date'], format=\"%Y-%m-%d\")"
   ]
  },
  {
   "cell_type": "markdown",
   "id": "6546db65-f43f-4cc5-8e01-0bddee62a73e",
   "metadata": {},
   "source": [
    "Transformation de \"Date\" au format Datetime"
   ]
  },
  {
   "cell_type": "code",
   "execution_count": 7,
   "id": "e72d3cdc-5094-44b9-899d-8e77e690cee8",
   "metadata": {},
   "outputs": [],
   "source": [
    "df['Montant'] = df['Quantité'] * df['Prix_Unitaire']"
   ]
  },
  {
   "cell_type": "code",
   "execution_count": 8,
   "id": "71e130f3-3172-45a2-a2f9-a47334fd9fc8",
   "metadata": {},
   "outputs": [
    {
     "data": {
      "text/html": [
       "<div>\n",
       "<style scoped>\n",
       "    .dataframe tbody tr th:only-of-type {\n",
       "        vertical-align: middle;\n",
       "    }\n",
       "\n",
       "    .dataframe tbody tr th {\n",
       "        vertical-align: top;\n",
       "    }\n",
       "\n",
       "    .dataframe thead th {\n",
       "        text-align: right;\n",
       "    }\n",
       "</style>\n",
       "<table border=\"1\" class=\"dataframe\">\n",
       "  <thead>\n",
       "    <tr style=\"text-align: right;\">\n",
       "      <th></th>\n",
       "      <th>Date</th>\n",
       "      <th>Produit</th>\n",
       "      <th>Catégorie</th>\n",
       "      <th>Quantité</th>\n",
       "      <th>Prix_Unitaire</th>\n",
       "      <th>Montant</th>\n",
       "    </tr>\n",
       "  </thead>\n",
       "  <tbody>\n",
       "    <tr>\n",
       "      <th>0</th>\n",
       "      <td>2025-01-01</td>\n",
       "      <td>Café</td>\n",
       "      <td>Boissons</td>\n",
       "      <td>5</td>\n",
       "      <td>2.5</td>\n",
       "      <td>12.5</td>\n",
       "    </tr>\n",
       "    <tr>\n",
       "      <th>1</th>\n",
       "      <td>2025-01-01</td>\n",
       "      <td>Croissant</td>\n",
       "      <td>Viennoiserie</td>\n",
       "      <td>3</td>\n",
       "      <td>1.2</td>\n",
       "      <td>3.6</td>\n",
       "    </tr>\n",
       "    <tr>\n",
       "      <th>2</th>\n",
       "      <td>2025-01-02</td>\n",
       "      <td>Jus d'orange</td>\n",
       "      <td>Boissons</td>\n",
       "      <td>2</td>\n",
       "      <td>3.0</td>\n",
       "      <td>6.0</td>\n",
       "    </tr>\n",
       "    <tr>\n",
       "      <th>3</th>\n",
       "      <td>2025-01-03</td>\n",
       "      <td>Baguette</td>\n",
       "      <td>Boulangerie</td>\n",
       "      <td>10</td>\n",
       "      <td>0.9</td>\n",
       "      <td>9.0</td>\n",
       "    </tr>\n",
       "    <tr>\n",
       "      <th>4</th>\n",
       "      <td>2025-01-04</td>\n",
       "      <td>Sandwich</td>\n",
       "      <td>Snack</td>\n",
       "      <td>4</td>\n",
       "      <td>4.5</td>\n",
       "      <td>18.0</td>\n",
       "    </tr>\n",
       "  </tbody>\n",
       "</table>\n",
       "</div>"
      ],
      "text/plain": [
       "        Date       Produit     Catégorie  Quantité  Prix_Unitaire  Montant\n",
       "0 2025-01-01          Café      Boissons         5            2.5     12.5\n",
       "1 2025-01-01     Croissant  Viennoiserie         3            1.2      3.6\n",
       "2 2025-01-02  Jus d'orange      Boissons         2            3.0      6.0\n",
       "3 2025-01-03      Baguette   Boulangerie        10            0.9      9.0\n",
       "4 2025-01-04      Sandwich         Snack         4            4.5     18.0"
      ]
     },
     "execution_count": 8,
     "metadata": {},
     "output_type": "execute_result"
    }
   ],
   "source": [
    "df.head()"
   ]
  },
  {
   "cell_type": "code",
   "execution_count": 9,
   "id": "3566b3ae-70ac-4fa2-84d5-610d1cbf8cc6",
   "metadata": {},
   "outputs": [
    {
     "data": {
      "text/plain": [
       "Date             0\n",
       "Produit          0\n",
       "Catégorie        0\n",
       "Quantité         0\n",
       "Prix_Unitaire    0\n",
       "Montant          0\n",
       "dtype: int64"
      ]
     },
     "execution_count": 9,
     "metadata": {},
     "output_type": "execute_result"
    }
   ],
   "source": [
    "df.isnull().sum()"
   ]
  },
  {
   "cell_type": "code",
   "execution_count": 10,
   "id": "6d839dc5-8a07-4123-8d4f-1bf34404b28f",
   "metadata": {},
   "outputs": [],
   "source": [
    "df['Mois'] = df['Date'].dt.month"
   ]
  },
  {
   "cell_type": "code",
   "execution_count": 11,
   "id": "2ffe6efc-3925-4161-a36a-5e7ff6738c95",
   "metadata": {},
   "outputs": [],
   "source": [
    "df['Jour'] = df['Date'].dt.day"
   ]
  },
  {
   "cell_type": "code",
   "execution_count": 12,
   "id": "e2122aef-09cd-4c86-977d-292256d0ce2d",
   "metadata": {},
   "outputs": [],
   "source": [
    "df['Jour_Semaine'] = df['Date'].dt.day_name()"
   ]
  },
  {
   "cell_type": "code",
   "execution_count": 13,
   "id": "2143e1e7-29ca-43c5-8a6c-52b5280af6f6",
   "metadata": {},
   "outputs": [
    {
     "name": "stdout",
     "output_type": "stream",
     "text": [
      "<class 'pandas.core.frame.DataFrame'>\n",
      "RangeIndex: 29 entries, 0 to 28\n",
      "Data columns (total 9 columns):\n",
      " #   Column         Non-Null Count  Dtype         \n",
      "---  ------         --------------  -----         \n",
      " 0   Date           29 non-null     datetime64[ns]\n",
      " 1   Produit        29 non-null     object        \n",
      " 2   Catégorie      29 non-null     object        \n",
      " 3   Quantité       29 non-null     int64         \n",
      " 4   Prix_Unitaire  29 non-null     float64       \n",
      " 5   Montant        29 non-null     float64       \n",
      " 6   Mois           29 non-null     int32         \n",
      " 7   Jour           29 non-null     int32         \n",
      " 8   Jour_Semaine   29 non-null     object        \n",
      "dtypes: datetime64[ns](1), float64(2), int32(2), int64(1), object(3)\n",
      "memory usage: 1.9+ KB\n"
     ]
    }
   ],
   "source": [
    "df.info()"
   ]
  },
  {
   "cell_type": "code",
   "execution_count": 14,
   "id": "ac3950f3-ad27-4204-889d-a9a6c6b9fc8e",
   "metadata": {},
   "outputs": [
    {
     "data": {
      "text/html": [
       "<div>\n",
       "<style scoped>\n",
       "    .dataframe tbody tr th:only-of-type {\n",
       "        vertical-align: middle;\n",
       "    }\n",
       "\n",
       "    .dataframe tbody tr th {\n",
       "        vertical-align: top;\n",
       "    }\n",
       "\n",
       "    .dataframe thead th {\n",
       "        text-align: right;\n",
       "    }\n",
       "</style>\n",
       "<table border=\"1\" class=\"dataframe\">\n",
       "  <thead>\n",
       "    <tr style=\"text-align: right;\">\n",
       "      <th></th>\n",
       "      <th>Date</th>\n",
       "      <th>Produit</th>\n",
       "      <th>Catégorie</th>\n",
       "      <th>Quantité</th>\n",
       "      <th>Prix_Unitaire</th>\n",
       "      <th>Montant</th>\n",
       "      <th>Mois</th>\n",
       "      <th>Jour</th>\n",
       "      <th>Jour_Semaine</th>\n",
       "    </tr>\n",
       "  </thead>\n",
       "  <tbody>\n",
       "    <tr>\n",
       "      <th>0</th>\n",
       "      <td>2025-01-01</td>\n",
       "      <td>Café</td>\n",
       "      <td>Boissons</td>\n",
       "      <td>5</td>\n",
       "      <td>2.5</td>\n",
       "      <td>12.5</td>\n",
       "      <td>1</td>\n",
       "      <td>1</td>\n",
       "      <td>Wednesday</td>\n",
       "    </tr>\n",
       "    <tr>\n",
       "      <th>1</th>\n",
       "      <td>2025-01-01</td>\n",
       "      <td>Croissant</td>\n",
       "      <td>Viennoiserie</td>\n",
       "      <td>3</td>\n",
       "      <td>1.2</td>\n",
       "      <td>3.6</td>\n",
       "      <td>1</td>\n",
       "      <td>1</td>\n",
       "      <td>Wednesday</td>\n",
       "    </tr>\n",
       "    <tr>\n",
       "      <th>2</th>\n",
       "      <td>2025-01-02</td>\n",
       "      <td>Jus d'orange</td>\n",
       "      <td>Boissons</td>\n",
       "      <td>2</td>\n",
       "      <td>3.0</td>\n",
       "      <td>6.0</td>\n",
       "      <td>1</td>\n",
       "      <td>2</td>\n",
       "      <td>Thursday</td>\n",
       "    </tr>\n",
       "    <tr>\n",
       "      <th>3</th>\n",
       "      <td>2025-01-03</td>\n",
       "      <td>Baguette</td>\n",
       "      <td>Boulangerie</td>\n",
       "      <td>10</td>\n",
       "      <td>0.9</td>\n",
       "      <td>9.0</td>\n",
       "      <td>1</td>\n",
       "      <td>3</td>\n",
       "      <td>Friday</td>\n",
       "    </tr>\n",
       "    <tr>\n",
       "      <th>4</th>\n",
       "      <td>2025-01-04</td>\n",
       "      <td>Sandwich</td>\n",
       "      <td>Snack</td>\n",
       "      <td>4</td>\n",
       "      <td>4.5</td>\n",
       "      <td>18.0</td>\n",
       "      <td>1</td>\n",
       "      <td>4</td>\n",
       "      <td>Saturday</td>\n",
       "    </tr>\n",
       "  </tbody>\n",
       "</table>\n",
       "</div>"
      ],
      "text/plain": [
       "        Date       Produit     Catégorie  Quantité  Prix_Unitaire  Montant  \\\n",
       "0 2025-01-01          Café      Boissons         5            2.5     12.5   \n",
       "1 2025-01-01     Croissant  Viennoiserie         3            1.2      3.6   \n",
       "2 2025-01-02  Jus d'orange      Boissons         2            3.0      6.0   \n",
       "3 2025-01-03      Baguette   Boulangerie        10            0.9      9.0   \n",
       "4 2025-01-04      Sandwich         Snack         4            4.5     18.0   \n",
       "\n",
       "   Mois  Jour Jour_Semaine  \n",
       "0     1     1    Wednesday  \n",
       "1     1     1    Wednesday  \n",
       "2     1     2     Thursday  \n",
       "3     1     3       Friday  \n",
       "4     1     4     Saturday  "
      ]
     },
     "execution_count": 14,
     "metadata": {},
     "output_type": "execute_result"
    }
   ],
   "source": [
    "df.head()"
   ]
  },
  {
   "cell_type": "code",
   "execution_count": 15,
   "id": "2b238340-2ea4-49ef-b024-3c7a160a3805",
   "metadata": {},
   "outputs": [
    {
     "data": {
      "text/plain": [
       "Index(['Date', 'Produit', 'Catégorie', 'Quantité', 'Prix_Unitaire', 'Montant',\n",
       "       'Mois', 'Jour', 'Jour_Semaine'],\n",
       "      dtype='object')"
      ]
     },
     "execution_count": 15,
     "metadata": {},
     "output_type": "execute_result"
    }
   ],
   "source": [
    "df.columns"
   ]
  },
  {
   "cell_type": "code",
   "execution_count": 16,
   "id": "b37c96c3-6689-4d32-873f-9295648ecede",
   "metadata": {},
   "outputs": [
    {
     "data": {
      "image/png": "[encoded data removed]",
      "text/plain": [
       "<Figure size 800x400 with 1 Axes>"
      ]
     },
     "metadata": {},
     "output_type": "display_data"
    }
   ],
   "source": [
    "plt.figure(figsize=(8, 4))\n",
    "sns.histplot(df['Montant'], bins=10, kde=True)\n",
    "plt.title(\"Distribution des montants de vente\")\n",
    "plt.xlabel(\"Montant (€)\")\n",
    "plt.ylabel(\"Nombre de ventes\")\n",
    "plt.show()"
   ]
  },
  {
   "cell_type": "markdown",
   "id": "eca72247-8069-4ae0-b680-1da7e4c37076",
   "metadata": {},
   "source": [
    "Graphique représentant la distribution des ventes selon leur tranche de prix."
   ]
  },
  {
   "cell_type": "code",
   "execution_count": 17,
   "id": "275182a5-59c7-47ca-ba18-d0eb9403377c",
   "metadata": {},
   "outputs": [
    {
     "data": {
      "image/png": "[encoded data removed]",
      "text/plain": [
       "<Figure size 800x400 with 1 Axes>"
      ]
     },
     "metadata": {},
     "output_type": "display_data"
    }
   ],
   "source": [
    "plt.figure(figsize=(8, 4))\n",
    "sns.barplot(x='Catégorie', y='Montant', data=df, estimator=sum)\n",
    "plt.title(\"Montant total par catégorie\")\n",
    "plt.ylabel(\"Montant total (€)\")\n",
    "plt.show()"
   ]
  },
  {
   "cell_type": "markdown",
   "id": "34e17c50-b810-4caa-a658-296562927b95",
   "metadata": {},
   "source": [
    "Graphique représentant la somme des ventes par cétégories de produits"
   ]
  },
  {
   "cell_type": "code",
   "execution_count": 19,
   "id": "fa30fbc4-6d26-44af-a458-320e48ba93ce",
   "metadata": {},
   "outputs": [
    {
     "data": {
      "image/png": "[encoded data removed]",
      "text/plain": [
       "<Figure size 800x400 with 1 Axes>"
      ]
     },
     "metadata": {},
     "output_type": "display_data"
    }
   ],
   "source": [
    "plt.figure(figsize=(8, 4))\n",
    "order = ['Monday', 'Tuesday', 'Wednesday', 'Thursday', 'Friday', 'Saturday', 'Sunday']\n",
    "sns.barplot(x='Jour_Semaine', y='Montant', data=df, estimator=sum, order=order)\n",
    "plt.title(\"Montant total par jour de la semaine\")\n",
    "plt.ylabel(\"Montant total (€)\")\n",
    "plt.xticks(rotation=45)\n",
    "plt.show()\n"
   ]
  },
  {
   "cell_type": "markdown",
   "id": "03642116-c042-4309-9fe6-8f28c736ce5c",
   "metadata": {},
   "source": [
    "Graphique représentant la somme total des ventes par jours de la semaine"
   ]
  },
  {
   "cell_type": "code",
   "execution_count": 23,
   "id": "ab5cb2b9-9273-498d-93d4-ace5594c8617",
   "metadata": {},
   "outputs": [
    {
     "data": {
      "image/png": "[encoded data removed]",
      "text/plain": [
       "<Figure size 1000x400 with 1 Axes>"
      ]
     },
     "metadata": {},
     "output_type": "display_data"
    }
   ],
   "source": [
    "df_journalier = df.groupby('Date')['Montant'].sum()\n",
    "\n",
    "plt.figure(figsize=(10, 4))\n",
    "df_journalier.plot()\n",
    "plt.title(\"Évolution des ventes dans le temps\")\n",
    "plt.xlabel(\"Date\")\n",
    "plt.ylabel(\"Montant total (€)\")\n",
    "plt.grid(True)\n",
    "plt.show()"
   ]
  },
  {
   "cell_type": "markdown",
   "id": "159b21f0-be25-49fc-a917-7a6e09bb0b50",
   "metadata": {},
   "source": [
    "Graphique représentant l'évolution de la somme des ventes sur le mois de janvier"
   ]
  }
 ],
 "metadata": {
  "kernelspec": {
   "display_name": "Python 3 (ipykernel)",
   "language": "python",
   "name": "python3"
  },
  "language_info": {
   "codemirror_mode": {
    "name": "ipython",
    "version": 3
   },
   "file_extension": ".py",
   "mimetype": "text/x-python",
   "name": "python",
   "nbconvert_exporter": "python",
   "pygments_lexer": "ipython3",
   "version": "3.13.6"
  }
 },
 "nbformat": 4,
 "nbformat_minor": 5
}
